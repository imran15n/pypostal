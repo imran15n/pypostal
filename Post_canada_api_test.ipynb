{
  "nbformat": 4,
  "nbformat_minor": 0,
  "metadata": {
    "colab": {
      "provenance": [],
      "authorship_tag": "ABX9TyPhBWMejZ40sTjt92ltKZNQ",
      "include_colab_link": true
    },
    "kernelspec": {
      "name": "python3",
      "display_name": "Python 3"
    },
    "language_info": {
      "name": "python"
    }
  },
  "cells": [
    {
      "cell_type": "markdown",
      "metadata": {
        "id": "view-in-github",
        "colab_type": "text"
      },
      "source": [
        "<a href=\"https://colab.research.google.com/github/imran15n/pypostal/blob/master/Post_canada_api_test.ipynb\" target=\"_parent\"><img src=\"https://colab.research.google.com/assets/colab-badge.svg\" alt=\"Open In Colab\"/></a>"
      ]
    },
    {
      "cell_type": "code",
      "execution_count": 1,
      "metadata": {
        "colab": {
          "base_uri": "https://localhost:8080/"
        },
        "id": "8K5tH3rQo981",
        "outputId": "ccbe8f1e-746e-47be-869e-24c968f3727b"
      },
      "outputs": [
        {
          "output_type": "stream",
          "name": "stdout",
          "text": [
            "[]\n"
          ]
        }
      ],
      "source": [
        "# prompt: create a function to find canadian addresses using post canada api or website\n",
        "\n",
        "import requests\n",
        "\n",
        "def find_canadian_addresses(postal_code):\n",
        "  \"\"\"\n",
        "  Finds Canadian addresses using the Post Canada API.\n",
        "\n",
        "  Args:\n",
        "    postal_code: The postal code to search for.\n",
        "\n",
        "  Returns:\n",
        "    A list of Canadian addresses.\n",
        "  \"\"\"\n",
        "\n",
        "  url = f\"https://soa-gw.canadapost.ca/rs/pca-street-address/find/by-postal-code/{postal_code}\"\n",
        "\n",
        "  headers = {\n",
        "    \"Accept\": \"application/vnd.cpc.rs.street-address+json;charset=utf-8\",\n",
        "    \"Authorization\": \"Basic YOUR_API_KEY\",\n",
        "  }\n",
        "\n",
        "  response = requests.get(url, headers=headers)\n",
        "\n",
        "  if response.status_code == 200:\n",
        "    data = response.json()\n",
        "    addresses = [address[\"addressLine\"] for address in data[\"items\"]]\n",
        "    return addresses\n",
        "  else:\n",
        "    return []\n",
        "\n",
        "# Example usage\n",
        "postal_code = \"M5A 1B1\"\n",
        "addresses = find_canadian_addresses(postal_code)\n",
        "print(addresses)\n"
      ]
    },
    {
      "cell_type": "code",
      "source": [
        "!pip install urllib3\n",
        "import urllib.parse"
      ],
      "metadata": {
        "colab": {
          "base_uri": "https://localhost:8080/"
        },
        "id": "04DP85nRuxZk",
        "outputId": "a243b083-1009-4bb7-81a7-2aeefd8ae269"
      },
      "execution_count": 10,
      "outputs": [
        {
          "output_type": "stream",
          "name": "stdout",
          "text": [
            "Requirement already satisfied: urllib3 in /usr/local/lib/python3.10/dist-packages (2.0.7)\n"
          ]
        }
      ]
    },
    {
      "cell_type": "code",
      "source": [
        "import urllib.parse as urllib"
      ],
      "metadata": {
        "id": "KW0u4Y0Xu8m-"
      },
      "execution_count": 13,
      "outputs": []
    },
    {
      "cell_type": "code",
      "source": [
        "import urllib, xml.dom.minidom\n",
        "def AddressComplete_Interactive_Find_v2_10(Key, SearchTerm, Country):\n",
        "\n",
        "      #Build the url\n",
        "      requestUrl = \"http://ws1.postescanada-canadapost.ca/AddressComplete/Interactive/Find/v2.10/xmla.ws?\"\n",
        "      requestUrl += \"&\" +  urllib.parse.urlencode({\"Key\":Key})\n",
        "      requestUrl += \"&\" +  urllib.parse.urlencode({\"SearchTerm\":SearchTerm})\n",
        "      # requestUrl += \"&\" +  urllib.urlencode({\"LastId\":LastId})\n",
        "      # requestUrl += \"&\" +  urllib.urlencode({\"SearchFor\":SearchFor})\n",
        "      requestUrl += \"&\" +  urllib.parse.urlencode({\"Country\":Country})\n",
        "      # requestUrl += \"&\" +  urllib.urlencode({\"LanguagePreference\":LanguagePreference})\n",
        "      # requestUrl += \"&\" +  urllib.urlencode({\"MaxSuggestions\":MaxSuggestions})\n",
        "      # requestUrl += \"&\" +  urllib.urlencode({\"MaxResults\":MaxResults})\n",
        "      # requestUrl += \"&\" +  urllib.urlencode({\"Origin\":Origin})\n",
        "      # requestUrl += \"&\" +  urllib.urlencode({\"Bias\":Bias})\n",
        "      # requestUrl += \"&\" +  urllib.urlencode({\"Filters\":Filters})\n",
        "      # requestUrl += \"&\" +  urllib.urlencode({\"GeoFence\":GeoFence})\n",
        "\n",
        "      #Get the data\n",
        "      dataDoc = xml.dom.minidom.parseString(urllib.request.urlopen(requestUrl).read())\n",
        "\n",
        "      #Get references to the schema and data\n",
        "      schemaNodes = dataDoc.getElementsByTagName(\"Column\")\n",
        "      dataNotes = dataDoc.getElementsByTagName(\"Row\")\n",
        "\n",
        "      #Check for an error\n",
        "      if len(schemaNodes) == 4 and schemaNodes[0].attributes[\"Name\"].value == \"Error\":\n",
        "         raise Exception(dataNotes[0].attributes[\"Description\"].value)\n",
        "\n",
        "      #Work though the items in the response\n",
        "      results = []\n",
        "      for dataNode in dataNotes:\n",
        "         rowData = dict()\n",
        "         for schemaNode in schemaNodes:\n",
        "              key = schemaNode.attributes[\"Name\"].value\n",
        "              value = dataNode.attributes[key].value\n",
        "              rowData[key] = value\n",
        "         results.append(rowData)\n",
        "\n",
        "      return results\n",
        "\n",
        "      #FYI: The output is an array of key value pairs, the keys being:\n",
        "      #Id\n",
        "      #Text\n",
        "      #Highlight\n",
        "      #Cursor\n",
        "      #Description\n",
        "      #Next"
      ],
      "metadata": {
        "id": "TCjb1ff5suIA"
      },
      "execution_count": 24,
      "outputs": []
    },
    {
      "cell_type": "code",
      "source": [
        "# 158 BYNG AVE, TORONTO ON, CANADA NORTH YORK ON\n",
        "# Api key: EH96-NX49-MM38-XY39"
      ],
      "metadata": {
        "id": "60Fymk8Cs7zM"
      },
      "execution_count": null,
      "outputs": []
    },
    {
      "cell_type": "code",
      "source": [
        "address_list = AddressComplete_Interactive_Find_v2_10('EH96-NX49-MM38-XY39','158 BYNG AVE, TORONTO ON, CANADA NORTH YORK ON',Country='Canada')"
      ],
      "metadata": {
        "id": "9mWij60FtnA7"
      },
      "execution_count": 29,
      "outputs": []
    },
    {
      "cell_type": "code",
      "source": [
        "address_list"
      ],
      "metadata": {
        "colab": {
          "base_uri": "https://localhost:8080/"
        },
        "id": "YmFs34djxxpH",
        "outputId": "1636308e-333c-4583-dd74-881561a6548f"
      },
      "execution_count": 30,
      "outputs": [
        {
          "output_type": "execute_result",
          "data": {
            "text/plain": [
              "[{'Id': 'CA|CP|B|9899049',\n",
              "  'Text': '158 Byng Ave',\n",
              "  'Highlight': '0-3,4-12',\n",
              "  'Cursor': '0',\n",
              "  'Description': 'North York, ON, M2N 4K7',\n",
              "  'Next': 'Retrieve'}]"
            ]
          },
          "metadata": {},
          "execution_count": 30
        }
      ]
    },
    {
      "cell_type": "markdown",
      "source": [],
      "metadata": {
        "id": "5MehefbJ0gh6"
      }
    },
    {
      "cell_type": "code",
      "source": [
        "new_complete_address = f\"{address_list[0]['Text']} {address_list[0]['Description']} Canada\"\n",
        "\n",
        "new_complete_address"
      ],
      "metadata": {
        "colab": {
          "base_uri": "https://localhost:8080/",
          "height": 35
        },
        "id": "2ZuVDo5KzNU8",
        "outputId": "23c96915-d965-4963-aafa-fe61f95d0b42"
      },
      "execution_count": 35,
      "outputs": [
        {
          "output_type": "execute_result",
          "data": {
            "text/plain": [
              "'158 Byng Ave North York, ON, M2N 4K7 Canada'"
            ],
            "application/vnd.google.colaboratory.intrinsic+json": {
              "type": "string"
            }
          },
          "metadata": {},
          "execution_count": 35
        }
      ]
    },
    {
      "cell_type": "code",
      "source": [
        "import urllib, xml.dom.minidom\n",
        "def AddressComplete_Interactive_Retrieve_v2_11(Key, Id):\n",
        "\n",
        "      #Build the url\n",
        "      requestUrl = \"http://ws1.postescanada-canadapost.ca/AddressComplete/Interactive/Retrieve/v2.11/xmla.ws?\"\n",
        "      requestUrl += \"&\" +  urllib.parse.urlencode({\"Key\":Key})\n",
        "      requestUrl += \"&\" +  urllib.parse.urlencode({\"Id\":Id})\n",
        "\n",
        "      #Get the data\n",
        "      dataDoc = xml.dom.minidom.parseString(urllib.request.urlopen(requestUrl).read())\n",
        "\n",
        "      #Get references to the schema and data\n",
        "      schemaNodes = dataDoc.getElementsByTagName(\"Column\")\n",
        "      dataNotes = dataDoc.getElementsByTagName(\"Row\")\n",
        "\n",
        "      #Check for an error\n",
        "      if len(schemaNodes) == 4 and schemaNodes[0].attributes[\"Name\"].value == \"Error\":\n",
        "         raise Exception(dataNotes[0].attributes[\"Description\"].value)\n",
        "\n",
        "      #Work though the items in the response\n",
        "      results = []\n",
        "      for dataNode in dataNotes:\n",
        "         rowData = dict()\n",
        "         for schemaNode in schemaNodes:\n",
        "              key = schemaNode.attributes[\"Name\"].value\n",
        "              value = dataNode.attributes[key].value\n",
        "              rowData[key] = value\n",
        "         results.append(rowData)\n",
        "\n",
        "      return results\n",
        "\n",
        "      #FYI: The output is an array of key value pairs, the keys being:\n",
        "      #Id\n",
        "      #DomesticId\n",
        "      #Language\n",
        "      #LanguageAlternatives\n",
        "      #Department\n",
        "      #Company\n",
        "      #SubBuilding\n",
        "      #BuildingNumber\n",
        "      #BuildingName\n",
        "      #SecondaryStreet\n",
        "      #Street\n",
        "      #Block\n",
        "      #Neighbourhood\n",
        "      #District\n",
        "      #City\n",
        "      #Line1\n",
        "      #Line2\n",
        "      #Line3\n",
        "      #Line4\n",
        "      #Line5\n",
        "      #AdminAreaName\n",
        "      #AdminAreaCode\n",
        "      #Province\n",
        "      #ProvinceName\n",
        "      #ProvinceCode\n",
        "      #PostalCode\n",
        "      #CountryName\n",
        "      #CountryIso2\n",
        "      #CountryIso3\n",
        "      #CountryIsoNumber\n",
        "      #SortingNumber1\n",
        "      #SortingNumber2\n",
        "      #Barcode\n",
        "      #POBoxNumber\n",
        "      #Label\n",
        "      #Type\n",
        "      #DataLevel"
      ],
      "metadata": {
        "id": "2uFpSYfwxyFq"
      },
      "execution_count": 27,
      "outputs": []
    },
    {
      "cell_type": "code",
      "source": [
        "AddressComplete_Interactive_Retrieve_v2_11('EH96-NX49-MM38-XY39','CA|CP|B|9899049')"
      ],
      "metadata": {
        "colab": {
          "base_uri": "https://localhost:8080/"
        },
        "id": "V5qIVX_FyZHI",
        "outputId": "320c1865-c7d1-4046-9b87-a6ad8a954301"
      },
      "execution_count": 28,
      "outputs": [
        {
          "output_type": "execute_result",
          "data": {
            "text/plain": [
              "[{'Id': 'CA|CP|B|9899049',\n",
              "  'DomesticId': '9899049',\n",
              "  'Language': 'ENG',\n",
              "  'LanguageAlternatives': 'ENG,FRE',\n",
              "  'Department': '',\n",
              "  'Company': '',\n",
              "  'SubBuilding': '',\n",
              "  'BuildingNumber': '158',\n",
              "  'BuildingName': '',\n",
              "  'SecondaryStreet': '',\n",
              "  'Street': 'Byng Ave',\n",
              "  'Block': '',\n",
              "  'Neighbourhood': '',\n",
              "  'District': '',\n",
              "  'City': 'North York',\n",
              "  'Line1': '158 Byng Ave',\n",
              "  'Line2': '',\n",
              "  'Line3': '',\n",
              "  'Line4': '',\n",
              "  'Line5': '',\n",
              "  'AdminAreaName': '',\n",
              "  'AdminAreaCode': '',\n",
              "  'Province': 'ON',\n",
              "  'ProvinceName': 'Ontario',\n",
              "  'ProvinceCode': 'ON',\n",
              "  'PostalCode': 'M2N 4K7',\n",
              "  'CountryName': 'Canada',\n",
              "  'CountryIso2': 'CA',\n",
              "  'CountryIso3': 'CAN',\n",
              "  'CountryIsoNumber': '124',\n",
              "  'SortingNumber1': '',\n",
              "  'SortingNumber2': '',\n",
              "  'Barcode': '',\n",
              "  'POBoxNumber': '',\n",
              "  'Label': '158 Byng Ave\\nNORTH YORK ON M2N 4K7\\nCANADA',\n",
              "  'Type': 'Residential',\n",
              "  'DataLevel': 'Premise',\n",
              "  'AcRbdi': 'R',\n",
              "  'AcMua': '0'},\n",
              " {'Id': 'CA|CP|B|9899049',\n",
              "  'DomesticId': '9899049',\n",
              "  'Language': 'FRE',\n",
              "  'LanguageAlternatives': 'ENG,FRE',\n",
              "  'Department': '',\n",
              "  'Company': '',\n",
              "  'SubBuilding': '',\n",
              "  'BuildingNumber': '158',\n",
              "  'BuildingName': '',\n",
              "  'SecondaryStreet': '',\n",
              "  'Street': 'Av Byng',\n",
              "  'Block': '',\n",
              "  'Neighbourhood': '',\n",
              "  'District': '',\n",
              "  'City': 'North York',\n",
              "  'Line1': '158 Av Byng',\n",
              "  'Line2': '',\n",
              "  'Line3': '',\n",
              "  'Line4': '',\n",
              "  'Line5': '',\n",
              "  'AdminAreaName': '',\n",
              "  'AdminAreaCode': '',\n",
              "  'Province': 'ON',\n",
              "  'ProvinceName': 'Ontario',\n",
              "  'ProvinceCode': 'ON',\n",
              "  'PostalCode': 'M2N 4K7',\n",
              "  'CountryName': 'Canada',\n",
              "  'CountryIso2': 'CA',\n",
              "  'CountryIso3': 'CAN',\n",
              "  'CountryIsoNumber': '124',\n",
              "  'SortingNumber1': '',\n",
              "  'SortingNumber2': '',\n",
              "  'Barcode': '',\n",
              "  'POBoxNumber': '',\n",
              "  'Label': '158 Av Byng\\nNORTH YORK ON M2N 4K7\\nCANADA',\n",
              "  'Type': 'Residential',\n",
              "  'DataLevel': 'Premise',\n",
              "  'AcRbdi': 'R',\n",
              "  'AcMua': '0'}]"
            ]
          },
          "metadata": {},
          "execution_count": 28
        }
      ]
    }
  ]
}